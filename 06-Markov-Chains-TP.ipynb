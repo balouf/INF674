{
 "cells": [
  {
   "cell_type": "markdown",
   "metadata": {},
   "source": [
    "# ACN 903 S6: Markov Chains\n",
    "\n",
    "## Céline Comte & Fabien Mathieu"
   ]
  },
  {
   "cell_type": "markdown",
   "metadata": {},
   "source": [
    "The objective of this practical is to make you *see* a Markov chain in action. In particular, you will observe what happens if the conditions of the Perron-Frobenius theorem are not met."
   ]
  },
  {
   "cell_type": "code",
   "execution_count": null,
   "metadata": {},
   "outputs": [],
   "source": [
    "%pylab inline\n",
    "\n",
    "from matplotlib import animation, rc\n",
    "from IPython.display import HTML\n",
    "\n",
    "# Uncomment the following line if you want to pimp your animation a little bit\n",
    "# with xkcd-like display (will cost extra computation time)\n",
    "# xkcd()"
   ]
  },
  {
   "cell_type": "markdown",
   "metadata": {},
   "source": [
    "# Things to know (matrix-oriented theoretical take-away)"
   ]
  },
  {
   "cell_type": "markdown",
   "metadata": {},
   "source": [
    "**Right stochastic matrix.**\n",
    "Let $A = (a_{i,j})$ be a $n \\times n$ matrix. We say that $A$ is a *right* stochastic matrix if:\n",
    "- The coefficients of $A$ are non-negative: $\\forall i, j, a_{i,j}\\geq 0$.\n",
    "- Each row sums to 1: $\\forall i, \\sum_j a_{i,j} = 1$.\n",
    "\n",
    "**Homogeneous Markov chain.** An $n \\times n$ right stochastic matrix $A = (a_{i,j})$ can define a *Markov Chain* that describes the evolution of a distribution over $n$ states as follows: if one is in state $i$ at step $k$ of the process, the probability to be in state $j$ at step $k+1$ is $a_{i,j}$.\n",
    "\n",
    "With this matrix notation, the evolution of the Markov chain is easy to study: if $P_k$ is the probability distribution at step $k$ (in particular, $P_k\\geq 0$ and $\\sum_{i}P_k[i]=1$), then we have\n",
    "$$P_{k+1}=P_k A, \\quad \\forall k \\in \\mathbb{N}.$$\n",
    "\n",
    "**Irreducibility.**  Let $A$ be a *non-negative* matrix ($\\forall i,j, a_{i,j}\\geq 0$). Let $G=(V,E)$ be the oriented graph associated to $A$: $(i,j)\\in E$ if, and only if $A[i,j]>0$. The following propositions are equivalent:\n",
    "- $A$ is *irreducible* (that is, the Markov chain associated to the normalized version of $A$ is irreducible);\n",
    "- $G$ is *strongly connected*: $\\forall (i,j)\\in V^2$, there exists an oriented path in $G$ from $i$ to $j$;\n",
    "- For each $i, j = 1,\\ldots,n$, there exists $k > 0$ such that $A^k[i,j]>0$.\n",
    "\n",
    "Intuitively, the irreducibility property indicates that, starting from any state, the Markov chain can reach any state with a positive (e.g. >0) probability after some steps.\n",
    "\n",
    "**Aperiodicity** (*from Wikipedia*)**.**\n",
    "The period of a state $i$ is the greatest common divisor of the lengths of the cycles that state $i$ belongs to.\n",
    "If we reformulate this definition in terms of the transition matrix, the period of state $i$ is the greatest common divisor of all natural numbers $k$ such that $A^k[i,i] > 0$. When the Markov chain is irreducible, the period of every state is the same and is called the period of the Markov chain. \n",
    "\n",
    "A Markov chain is said *aperiodic* if the period of each state is 1.\n",
    "\n",
    "Intuitively, a period $k>1$ indicates that the length of any cycle must be a multiple of $k$.\n",
    "\n",
    "**Perron-Frobenius Theorem** (a variant, actually)**.**\n",
    "If a matrix $A$ is right stochastic, irreducible and aperiodic, then $A^k \\to B$ as $k \\to +\\infty$, where $B$ is the right stochastic matrix having all its rows equal to the same row vector $Q$ defined as the unique normalized solution to the equation $QA = Q$.\n",
    "\n",
    "**Interpretation.** When the condition of the Perron-Frobenius theorem are met, the Markov chain will eventually converge to a unique distribution, independently of its initial state which is *forgotten*."
   ]
  },
  {
   "cell_type": "markdown",
   "metadata": {},
   "source": [
    "# 1. Markov chains animations "
   ]
  },
  {
   "cell_type": "markdown",
   "metadata": {},
   "source": [
    "To start with, we consider a small experiment that plays with the assumptions of Perron-Frobenius theorem.\n",
    "\n",
    "Consider a circular game board made of $ n = 36 $ squares numbered from $ 0 $ to $ 35 $. At the (discrete) turn $ k=0 $, a player stands on square $ 0 $. Between two successive turns, the player moves of a certain number of squares that depends on the game rules. Remember that the board is circular: if the player is in square $35$ and moves one square forward, she lands in square $0$. \n",
    "\n",
    "The objective of this exercice is to visualize the impact of the game rules on the (probabilistic) position of the player on the board."
   ]
  },
  {
   "cell_type": "markdown",
   "metadata": {},
   "source": [
    "## Toy example"
   ]
  },
  {
   "cell_type": "markdown",
   "metadata": {},
   "source": [
    "We now give you the code to visualize the game evolution in a toy example. For now, the player (deterministically) moves one square forward at each turn.\n",
    "The function ``evolution`` displays the evolution of a distribution. It takes three arguments:\n",
    "- ``next_step``: a function that takes a distribution as input and returns the resulting distribution after one step of the Markov process.\n",
    "- ``k_max``: the number of steps you want to watch.\n",
    "- ``n``: the size of the game board"
   ]
  },
  {
   "cell_type": "code",
   "execution_count": null,
   "metadata": {},
   "outputs": [],
   "source": [
    "def evolution(next_step, k_max=180, n=36):\n",
    "    # Turn interactive plotting off\n",
    "    plt.ioff()\n",
    "    # Initiate figure\n",
    "    fig, ax = subplots()\n",
    "    # Initiate probability distribution: the initial position of the player is known: she is in square 0\n",
    "    P = zeros(n)\n",
    "    P[0] = 1\n",
    "    # Display probability\n",
    "    pbar = ax.bar(range(n), P, 1)\n",
    "    xlim([0, n])\n",
    "\n",
    "    #Init only required for blitting to give a clean slate.\n",
    "    def init():\n",
    "        for rect, y in zip(pbar, P):\n",
    "            rect.set_height(y)\n",
    "        return pbar\n",
    "    \n",
    "    # animate tells what to do at step i of the process\n",
    "    def animate(i):\n",
    "        for rect, y in zip(pbar, P):\n",
    "            rect.set_height(y)\n",
    "        P[:] = next_step(P)  # Update the values using the next_step function\n",
    "        return pbar\n",
    "    \n",
    "    # create the animation object\n",
    "    ani = animation.FuncAnimation(\n",
    "        fig, animate, frames=k_max, init_func=init, interval=50, blit=True)\n",
    "    \n",
    "    # return the video as HTML to display in the output of the cell\n",
    "    return HTML(ani.to_html5_video())"
   ]
  },
  {
   "cell_type": "markdown",
   "metadata": {},
   "source": [
    "The rule for the toy example is to move one case forward. This can be easily done with the function ``roll`` from numpy package."
   ]
  },
  {
   "cell_type": "code",
   "execution_count": null,
   "metadata": {},
   "outputs": [],
   "source": [
    "def next_step(P):\n",
    "    # Roll, baby!\n",
    "    return roll(P, 1)"
   ]
  },
  {
   "cell_type": "markdown",
   "metadata": {},
   "source": [
    "We now call the function ``evolution``. It can take a few seconds to initiate, depending on the ``k_max`` you choose."
   ]
  },
  {
   "cell_type": "code",
   "execution_count": null,
   "metadata": {},
   "outputs": [],
   "source": [
    "evolution(next_step, 180)"
   ]
  },
  {
   "cell_type": "markdown",
   "metadata": {},
   "source": [
    "## Question 1\n",
    "\n",
    "Are the condition of the Perron-Frobenius met in the toy example above? Justify your answers by:\n",
    "- commenting the animation above;\n",
    "- **and** using the theoretical definitions (in particular, you should clearly define the Markov chain you consider)."
   ]
  },
  {
   "cell_type": "markdown",
   "metadata": {},
   "source": [
    "**Answer:**"
   ]
  },
  {
   "cell_type": "markdown",
   "metadata": {},
   "source": [
    "## Question 2\n",
    "\n",
    "We now change the rules. At each turn, the player tosses an unbiased coin. If it is a head, she moves forward $ a = 1 $ step. If it is a tail, she moves forward $ b = 2 $ steps. Visualize the evolution of the position of the player. Comment what you observe.\n",
    "\n",
    "**Remark:** The game rules are not trivial any more, so that we will play with more general Markov chains. Updating the vector ``P`` by applying the function ``roll`` won't be enough anymore. You may want to use ``dot(P, A)``, which multiplies a vector $P$ and a matrix $A$, with a properly built matrix $A$. To do so, we define below the function ``next_stepA(P)`` that takes a vector $P$ as input. In each question of the exercise, you will simply have to\n",
    "- build the matrix $A$ that encodes the game rules described in the question;\n",
    "- run the instruction ``evolution(next_stepA, nb_of_steps)`` to generate the video, where ``nb_of_steps`` is the number of steps you wish to observe;\n",
    "- discuss the result."
   ]
  },
  {
   "cell_type": "code",
   "execution_count": null,
   "metadata": {},
   "outputs": [],
   "source": [
    "def next_stepA(P):\n",
    "    return dot(P, A)"
   ]
  },
  {
   "cell_type": "markdown",
   "metadata": {},
   "source": [
    "**Answer:**"
   ]
  },
  {
   "cell_type": "markdown",
   "metadata": {},
   "source": [
    "## Question 3\n",
    "\n",
    "New rules. We now assume that $ a = 1 $ and $ b = i^2 $, where $ i $ is the current position of the player.\n",
    "\n",
    "Visualize the evolution of the position of the player. Comment what you observe."
   ]
  },
  {
   "cell_type": "markdown",
   "metadata": {},
   "source": [
    "**Answer:**"
   ]
  },
  {
   "cell_type": "markdown",
   "metadata": {},
   "source": [
    "## Question 4\n",
    "\n",
    "New rules. We now assume that $ a = 1 $ and $ b = 7 $.\n",
    "\n",
    "Visualize the evolution of the position of the player. Comment what you observe."
   ]
  },
  {
   "cell_type": "markdown",
   "metadata": {},
   "source": [
    "**Answer:**"
   ]
  },
  {
   "cell_type": "markdown",
   "metadata": {},
   "source": [
    "## Question 5\n",
    "\n",
    "New rules. We now assume that $ a = 2 $ and $ b = 4 $.\n",
    "\n",
    "Visualize the evolution of the position of the player. Comment what you observe."
   ]
  },
  {
   "cell_type": "markdown",
   "metadata": {},
   "source": [
    "**Answer:**"
   ]
  },
  {
   "cell_type": "markdown",
   "metadata": {},
   "source": [
    "## Question 6\n",
    "\n",
    "New rule. When the player stands on square 35, she rolls a dice. If she scores 6 (which happens with probability $\\frac16$), she realizes that the game is pointless and quits the game. Redo questions 2 to 5 with this new rule (theory, practice, discussions...)."
   ]
  },
  {
   "cell_type": "markdown",
   "metadata": {},
   "source": [
    "**Answer:**"
   ]
  },
  {
   "cell_type": "markdown",
   "metadata": {},
   "source": [
    "# 2. PageRank on a small graph (if time)"
   ]
  },
  {
   "cell_type": "markdown",
   "metadata": {},
   "source": [
    "The goal of this second exercise is to test a few variants of PageRank on *small* graphs and see how they differ.\n",
    "The next practical will give you the opportunity to experience PageRank on larger (and more realistic) graphs.\n",
    "\n",
    "Let $ h $ be an integer (we will use $h = 2$ for the toy evaluation and $h = 9$ for the complete evaluation).\n",
    "We consider the following web graph $ G $:\n",
    "- There are $ n = 2^{h+1}-1 $ nodes (representing web pages) numbered from $0$ to $ n-1 = 2^{h+1}-2 $.\n",
    "- The oriented edges (representing hyperlinks) are as follows:\n",
    "    - For each node $ i\\geq 1 $, there is an edge *from* node $ i $ *to* node $ i - 1 $.\n",
    "    - For each node $ i\\geq 1 $, there is an edge *from* node $ i $ *to* node $ \\left\\lfloor \\frac{i-1}2 \\right\\rfloor $.\n",
    "    - For each node $j$ such that $ j \\in [2^h-1, 2^{h+1}-2] $, there is an edge *from* $0$ *to* $j$.\n",
    " \n",
    "**Remark**: there is at most one edge from a node $i$ to a node $j$, even when several rules indicate the existence of the edge."
   ]
  },
  {
   "cell_type": "markdown",
   "metadata": {},
   "source": [
    "## Question 7\n",
    "\n",
    "Build the transition matrix $A$ associated to the Markov chain defined by the position of the random surfer on the graph $G$ described above. For memory, this matrix is defined by $ a_{i,j} = \\frac1{\\text{deg}_+(i)}$ if there is an edge from $ i $ to $ j $, and $a_{i,j} = 0$ otherwise (where $\\text{deg}_+(i)$ is the outdegree of a node $i$)."
   ]
  },
  {
   "cell_type": "markdown",
   "metadata": {},
   "source": [
    "**Answer:**"
   ]
  },
  {
   "cell_type": "markdown",
   "metadata": {},
   "source": [
    "## Question 8\n",
    "\n",
    "Try to guess which nodes of the graph are important. Justify your answer (e.g. copying/pasting the answer to the next question is not enough)."
   ]
  },
  {
   "cell_type": "markdown",
   "metadata": {},
   "source": [
    "**Answer:**"
   ]
  },
  {
   "cell_type": "markdown",
   "metadata": {},
   "source": [
    "## Question 9\n",
    "\n",
    "Compute the PageRank $P$ which is a solution of $ P = P A $. Proceed iteratively, starting from the uniform distribution $ P = \\frac{\\mathbf{1}}n $ and updating $ P \\leftarrow P A $ until $ ||P-PA||_1<\\epsilon $ (recommendation: $ \\epsilon = 10^{-8} $).\n",
    "\n",
    "You function should display:\n",
    "- the current top ten (that is, the ten nodes that have highest value in current $P$) at the end of each of the first 10 iterations,\n",
    "- the top ten at the end of the last iteration,\n",
    "- and the total number of iterations.\n",
    "\n",
    "You should impose a maximum number of authorized iterations to avoid infinite loops (recommendation: 2000 iterations). When reaching the maximal number of iterations, your function should display a message saying the process has not converged and giving the last top ten that was computed."
   ]
  },
  {
   "cell_type": "markdown",
   "metadata": {},
   "source": [
    "**Answer:**"
   ]
  },
  {
   "cell_type": "markdown",
   "metadata": {},
   "source": [
    "## Question 10\n",
    "\n",
    "We\n",
    "supplement the web graph $G$ with $b = 10$ new nodes numbered from $ n $ to $ n+b-1 $. For each new node $ i $, we add an edge *from* $ i-1 $ *to* $i$.\n",
    "- Do Questions 7, 8, and 9 over with this new graph. What happens (in theory and in practice)?\n",
    "- Use $ P \\leftarrow \\frac{P A}{||PA||_1} $ instead of $P \\leftarrow P A$ to update $P$. What happens?"
   ]
  },
  {
   "cell_type": "markdown",
   "metadata": {},
   "source": [
    "**Answer:**"
   ]
  },
  {
   "cell_type": "markdown",
   "metadata": {},
   "source": [
    "## Question 11\n",
    "\n",
    "We add a single edge to the previous graph, from node $ n+b-1 $ to node $ n+b-2 $.\n",
    "- Do Questions 7, 8, and 9 over with this new graph, along with the update proposed in Question 10. What happens (in theory and in practice)?\n",
    "- Use $ P \\leftarrow d P A + (1-d)\\frac{\\mathbf{1}}n  $ for updating $P$, with $d = 0.85$. What happens? Can you explain it?\n",
    "- (Bonus) Try numerically to simply use $ P \\leftarrow d P A + \\mathbf{1}$ for updating $P$. Can you explain the result?"
   ]
  },
  {
   "cell_type": "markdown",
   "metadata": {},
   "source": [
    "**Answer:**"
   ]
  },
  {
   "cell_type": "markdown",
   "metadata": {},
   "source": [
    "## Question 12\n",
    "\n",
    "In case you haven't done it yet, please compare and discuss the convergence and rankings you observed in this practical."
   ]
  },
  {
   "cell_type": "markdown",
   "metadata": {},
   "source": [
    "**Answer:**"
   ]
  }
 ],
 "metadata": {
  "language_info": {
   "name": "python",
   "pygments_lexer": "ipython3"
  }
 },
 "nbformat": 4,
 "nbformat_minor": 1
}
